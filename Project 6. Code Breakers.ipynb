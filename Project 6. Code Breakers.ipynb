{
 "cells": [
  {
   "cell_type": "markdown",
   "id": "70909b9e",
   "metadata": {},
   "source": [
    "Open the given text file, whose name is `'huixinlu.txt'`. Use `.read()` method to read the content of the text file."
   ]
  },
  {
   "cell_type": "code",
   "execution_count": 1,
   "id": "d3166588",
   "metadata": {},
   "outputs": [],
   "source": [
    "with open('huixinlu.txt','r') as file:  # Open the text file and let it be `file`.\n",
    "    h = file.read()                     # Read the text file and obatin the strings of the content in the file."
   ]
  },
  {
   "cell_type": "markdown",
   "id": "126a16af",
   "metadata": {},
   "source": [
    "Use `type()` method to verify the type of `h`."
   ]
  },
  {
   "cell_type": "code",
   "execution_count": 2,
   "id": "7fe5fe0a",
   "metadata": {},
   "outputs": [
    {
     "name": "stdout",
     "output_type": "stream",
     "text": [
      "109 63 94 20 86 84 106 3 96 87 89 8 42 96 83 81 97 99 90 5 106 68 88 90 89 76 5 104 81 80 84 102 8 77 92 86 12 87 93 79 77 19 70 77 93 99 88 94 19 76 90 15 104 80 74 19 80 85 83 103 92 5 98 73 12 99 92 77 111 99 85 91 82 89 91 88 92 82 90 27 20 92 77 101 82 97 86 92 8 89 91 72 12 98 104 90 74 88 87 95 15 99 78 5 91 76 95 15 87 73 85 92 87 77 91 47 8 70 97 71 12 80 96 84 5 103 75 81 15 100 77 84 99 79 81 121 103 92 70 97 71 85 93 91 8 71 108 15 12 80 98 76 5 103 75 91 98 89 8 70 103 3 96 87 89 8 92 92 81 80 94 107 91 17 19 70 94 88 89 76 5 98 88 96 27 20 15 52 91 4 12 55 99 95 5 85 72 77 100 104 81 75 104 79 118 80 102 77 5 98 88 94 15 57 85 85 88 85 91 97 27 91 5 97 72 99 15 87 84 84 103 75 81 98 21 8 60 91 68 96 15 85 8 82 84 74 90 88 90 81 72 88 81 96 15 104 90 70 92 81 12 99 92 77 87 88 3 85 98 20 92 84 125 87 84 84 20 85 70 97 87 88 84 47 8 70 97 71 12 87 99 95 5 90 85 77 82 89 78 90 95 79 101 15 104 80 74 19 86 79 80 102 78 5 91 68 90 86 103 9 12 19 76 90 15 103 80 84 101 87 24 15 98 87 5 98 81 81 15 107 87 90 95 71 118 80 96 84 84 106 3 96 87 85 92 5 91 72 12 82 99 93 81 87 3 90 94 104 8 88 88 72 12 99 92 77 88 88 3 89 100 87 80 18 84 71 89 88 102 77 73 19 70 88 94 104 80 74 102 30 12 81 89 75 70 104 86 81 27 20 81 83 125 71 91 88 98 79 5 102 82 24 15 92 77 5 106 82 97 91 88 8 77 84 89 81 15 88 77 72 95 68 94 84 88 8 77 92 80 95 84 96 78 5 88 76 96 87 89 90 5 84 3 95 88 97 88 81 88 87 91 93 20 87 87 19 88 90 85 93 92 111 89 82 94 15 92 81 88 19 82 82 85 93 75 74 33 3 47 84 102 92 70 92 81 88 104 32 8 83 98 81 81 15 99 78 5 103 75 81 15 57 85 85 88 85 91 97 27 91 5 105 68 94 88 99 93 88 19 86 97 88 104 91 17 19 75 77 83 20 77 91 88 85 118 92 85 76 74 19 86 91 15 91 90 74 84 87 12 80 98 8 78 96 83 94 84 103 91 78 98 81 24 15 85 91 5 103 75 81 98 89 8 78 97 89 85 98 93 74 81 88 3 91 93 89 91 19 125 109 19 49 105 92 5 103 75 81 15 57 85 85 88 85 91 97 20 80 70 102 3 90 94 104 80 78 97 74 12 80 104 8 70 95 79 12 94 98 9 12 19 86 77 88 88 8 70 19 79 85 99 104 84 74 19 70 84 88 96 76 19 125 109 19 59 93 91 89 88 81 12 99 99 8 89 91 72 12 101 99 81 72 88 3 91 85 20 81 83 97 82 79 84 98 75 74 20 10 12 84 108 75 81 84 76 89 84 88 8 77 92 86 12 85 85 92 77 88 85 39 15 85 86 73 19 90 84 80 104 8 89 91 72 118 82 92 81 81 87 3 84 80 88 8 88 84 76 80 15 107 73 88 19 90 84 88 103 88 74 101 72 80 15 90 90 84 96 3 91 93 89 8 89 98 3 77 93 99 92 77 88 85 26 121 126 15 39 104 87 12 87 89 8 77 84 86 12 93 99 92 77 92 81 83 15 85 92 5 84 79 88 15 99 86 6 26 3 77 99 20 84 70 102 87 12 82 102 81 74 87 3 91 100 104 8 70 95 79 12 99 92 77 5 99 72 91 95 96 77 19 125 55 84 84 20 45 82 99 72 94 94 102 8 92 84 86 12 101 89 96 74 87 15 12 85 99 90 5 91 72 12 90 98 77 92 19 87 84 80 104 8 89 91 72 12 95 89 87 85 95 72 12 102 89 90 74 19 85 85 86 92 92 32 19 69 97 99 20 80 74 125 87 84 94 105 79 77 103 3 96 87 89 8 85 101 82 79 84 103 91 78 98 81 12 92 105 91 89 19 74 91 15 99 86 5 97 82 99 16 20 41 83 87 3 96 87 89 8 81 98 85 80 98 20 87 75 19 87 84 84 20 74 74 87 70 84 80 97 74 74 101 109 96 94 99 83 5 90 85 81 80 104 77 87 19 83 77 88 98 91 5 103 75 77 93 20 77 91 88 85 24 15 104 87 5 84 83 92 84 85 90 5 91 82 88 83 93 86 76 19 88 92 15 85 8 89 101 68 85 93 32 8 70 95 87 84 94 105 79 77 31 3 85 93 126 90 74 84 79 85 99 109 20 5 103 75 81 97 89 8 92 84 86 12 93 99 8 89 101 68 85 93 20 92 84 19 75 91 91 88 22 111 125\n"
     ]
    },
    {
     "data": {
      "text/plain": [
       "str"
      ]
     },
     "execution_count": 2,
     "metadata": {},
     "output_type": "execute_result"
    }
   ],
   "source": [
    "print(h)  # Print the content of `h`.\n",
    "type(h)   # Check the type of `h`."
   ]
  },
  {
   "cell_type": "markdown",
   "id": "ab178961",
   "metadata": {},
   "source": [
    "From above, we can see that the text file is not in English words instead of a block of numbers. The numbers are ASCII codes which encrypted a piece of message. However, the codes are in type `str` not type `int`.\n",
    "\n",
    "We should use `.split()` method to split them on space and then obtain a list of strings. Items in the string list are the individual ASCII code numbers. By list comprehension, we can convert each ASCII code (`str`) to number (`int`) by `int()` method."
   ]
  },
  {
   "cell_type": "code",
   "execution_count": 3,
   "id": "418c8783",
   "metadata": {},
   "outputs": [],
   "source": [
    "h_str_list = h.split(\" \")                        # Split the string of the file on space \" \".\n",
    "                                                 # Let `h_str_list` be the list of every code string from split. \n",
    "encrypted_h_ascii = [int(s) for s in h_str_list] # Convert code string to code number."
   ]
  },
  {
   "cell_type": "markdown",
   "id": "00a2b279",
   "metadata": {},
   "source": [
    "Now, we get a list named `encrypted_h_ascii`, which contains all ASCII codes of the encrypted message in type `int`."
   ]
  },
  {
   "cell_type": "markdown",
   "id": "cbf2093b",
   "metadata": {},
   "source": [
    "Next step, we start to define some functions that can\n",
    "1. Convert any string character (`str`) to the ASCII code (`int`), using list comprehension and `ord()` method.\n",
    "\n",
    "2. Convert any integer $0-127$ (`int`) to the symbol corresponding to that ASCII code, using list comprehension and `chr()` method. Moreover, convert the list of characters into a string by `.join` method.\n",
    "\n",
    "3. Get enough key ASCII code to decrypt a message whose length is longer than the length of the key.\n",
    "\n",
    "4. Decrypt message by enough key ASCII codes and given encrypted message ASCII codes."
   ]
  },
  {
   "cell_type": "code",
   "execution_count": 4,
   "id": "1c812411",
   "metadata": {},
   "outputs": [],
   "source": [
    "def str_to_ascii(s):           # Define a function named 'str_to_ascii'.\n",
    "    return [ord(c) for c in s] # Return the ASCII code for input 's'."
   ]
  },
  {
   "cell_type": "code",
   "execution_count": 5,
   "id": "f15cf9ba",
   "metadata": {},
   "outputs": [],
   "source": [
    "def ascii_to_str(int_list):                    # Define a function named 'ascii_to_str'.\n",
    "    return ''.join([chr(i) for i in int_list]) # Return the list of characters into a string."
   ]
  },
  {
   "cell_type": "code",
   "execution_count": 6,
   "id": "f3e99d88",
   "metadata": {},
   "outputs": [],
   "source": [
    "def enough_key_ascii(key_ascii,encrypted_message_ascii):   # Define a function named 'enough_key_ascii'.\n",
    "    key_length = len(key_ascii)                            # Obtain the length of the ASCII code of the gievn key.\n",
    "    enough_key_ascii = []                                  # Initialize a list for collecting the repeated key ASCII codes.\n",
    "    \n",
    "    for i,c in enumerate(encrypted_message_ascii):         # Start a for loop to iterate the index of the list of encrypted\n",
    "                                                           # message ASCII codes.\n",
    "        enough_key_ascii.append(key_ascii[i % key_length]) # Repeat sdding the key ASCII codes in order until the length of\n",
    "                                                           # key equals the length of the encrypted message.\n",
    "    \n",
    "    return enough_key_ascii                                # Return the list of enough key ASCII codes."
   ]
  },
  {
   "cell_type": "code",
   "execution_count": 7,
   "id": "3100b65a",
   "metadata": {},
   "outputs": [],
   "source": [
    "def decrypt_message(enough_key_ascii,encrypted_message_ascii):               # Define a function named 'enough_key_ascii'.\n",
    "    decrypted_message_ascii = []                                             # Initialize a list for collecting the decrypted message ASCII codes.\n",
    "    \n",
    "    for c_key, c_encrypted in zip(enough_key_ascii,encrypted_message_ascii): # Iterate two lists in thhe same order. \n",
    "        decrypted_message_ascii.append((c_encrypted - c_key) % 128)          # Decrypt the message: for each number we compute the reminder from\n",
    "                                                                             # the division of c_i - k_i by 128. Add the decrypted message ASCII \n",
    "                                                                             # codes into a list.\n",
    "\n",
    "    return decrypted_message_ascii                                           # Return the list of decrypted message ASCII code."
   ]
  },
  {
   "cell_type": "markdown",
   "id": "506104b2",
   "metadata": {},
   "source": [
    "[The secret key](https://raw.githubusercontent.com/en-wl/wordlist/master/alt12dicts/5desk.txt) for decrypting our text file `h` is from a dictionary of over 60,000 English words. We need to use `request` package to access internet pages. \n",
    "\n",
    "Access the key content from the web page, split the content by any amount of white space (spaces, tabs, new lines, etc.) and add it to a list called `dictionary`. Items in the list are each individual key."
   ]
  },
  {
   "cell_type": "code",
   "execution_count": 8,
   "id": "ccaca1ad",
   "metadata": {},
   "outputs": [],
   "source": [
    "import requests                # Import the requests module.\n",
    "\n",
    "# Access the keys page.\n",
    "page = requests.get('https://raw.githubusercontent.com/en-wl/wordlist/master/alt12dicts/5desk.txt')\n",
    "\n",
    "dictionary = page.text.split() # Read and split the content from the web page."
   ]
  },
  {
   "cell_type": "markdown",
   "id": "3ffe93bc",
   "metadata": {},
   "source": [
    "Since the file we want to decrypt is a fragment of a book in English, the most frequency character will be English letters in uppercase or lowercase. We can run every key in the dictionary to decrypt then extract the decrypted message which contains most number of English letters.\n",
    "\n",
    "From [ASCII code](https://theasciicode.com.ar/), we can see that the ASCII codes of uppercase and lowercase 26 letters are between $65$ ~ $90$ and $97$ ~ $122$ respectively. "
   ]
  },
  {
   "cell_type": "code",
   "execution_count": 9,
   "id": "fa833ced",
   "metadata": {},
   "outputs": [],
   "source": [
    "def break_code(dic,encrypted_message_ascii):                                          # Define a function named 'enough_key_ascii'.   \n",
    "    count = 0                                                                         # Initialize the word count to zero.\n",
    "    largest_amount = 0                                                                # Initialize the largest word count to zero.\n",
    "    store = []                                                                        # Initialize a list to store the decrypted message ASCII codes.\n",
    "\n",
    "    for key in dic:                                                                   # Iterate the every key in dictionary.               \n",
    "        key_ascii = str_to_ascii(key)                                                 # Convert key (str) from dictionary to ASCII code(int).\n",
    "        \n",
    "        ekey_ascii = []                                                               # Initialize a list to collect the enough key ASCII codes.\n",
    "        ekey_ascii = enough_key_ascii(key_ascii,encrypted_message_ascii)              # Get a list of enough keys.\n",
    "        \n",
    "        decrypted_message_ascii = decrypt_message(ekey_ascii,encrypted_message_ascii) # Decrypt the given message by keys.\n",
    "        \n",
    "        for n in decrypted_message_ascii:                                             # Iterate every integer of decrypted message ASCII codes.\n",
    "            if n in range(65,91) or n in range(97,123):                               # Check if the ASCII code corresponds the English letters.\n",
    "                count += 1                                                            # If yes, the word count increases 1.\n",
    "                \n",
    "        if count > largest_amount:                                                    # If it ouccurs that a new word count is larger than the\n",
    "                                                                                      # `largest word count` recorded before, then update the\n",
    "                                                                                      # new one to the `largest_amount`.\n",
    "            store = decrypted_message_ascii                                           # Store the decrypted message ascii when we find the key.\n",
    "            largest_amount = count                                                    # Update the largest word count.\n",
    "        count = 0                                                                     # Set the word count to 0 then start to count word for next key.\n",
    "    \n",
    "    return ascii_to_str(store)                                                        # Return the string decrypted from the ASCII codes."
   ]
  },
  {
   "cell_type": "code",
   "execution_count": 10,
   "id": "5f89c37d",
   "metadata": {},
   "outputs": [
    {
     "name": "stdout",
     "output_type": "stream",
     "text": [
      "\n",
      "So now the Emperor walked under his high canopy in the midst of the\n",
      "procession, through the streets of his capital; and all the people\n",
      "standing by, and those at the windows, cried out, 'Oh! How beautiful\n",
      "are our Emperor's new clothes! What a magnificent train there is to\n",
      "the mantle; and how gracefully the scarf hangs!' in short, no one would\n",
      "allow that he could not see these much-admired clothes; because, in\n",
      "doing so, he would have declared himself either a simpleton or unfit\n",
      "for his office. Certainly, none of the Emperor's various suits, had ever\n",
      "made so great an impression, as these invisible ones.\n",
      "\n",
      "'But the Emperor has nothing at all on!' said a little child.\n",
      "\n",
      "'Listen to the voice of innocence!' exclaimed his father; and what the\n",
      "child had said was whispered from one to another.\n",
      "\n",
      "'But he has nothing at all on!' at last cried out all the people.\n",
      "The Emperor was vexed, for he knew that the people were right; but he\n",
      "thought the procession must go on now! And the lords of the bedchamber\n",
      "took greater pains than ever, to appear holding up a train, although, in\n",
      "reality, there was no train to hold.\n",
      "\n",
      "\n"
     ]
    }
   ],
   "source": [
    "fragment = break_code(dictionary,encrypted_h_ascii) # Get the original message of the file by the key from dictionary.\n",
    "print(fragment)                                     # Print the decrypted message from 'huixinlu.txt' file."
   ]
  }
 ],
 "metadata": {
  "kernelspec": {
   "display_name": "Python 3 (ipykernel)",
   "language": "python",
   "name": "python3"
  },
  "language_info": {
   "codemirror_mode": {
    "name": "ipython",
    "version": 3
   },
   "file_extension": ".py",
   "mimetype": "text/x-python",
   "name": "python",
   "nbconvert_exporter": "python",
   "pygments_lexer": "ipython3",
   "version": "3.9.13"
  }
 },
 "nbformat": 4,
 "nbformat_minor": 5
}
